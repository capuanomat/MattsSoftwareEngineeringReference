{
 "cells": [
  {
   "cell_type": "markdown",
   "id": "e6495318",
   "metadata": {},
   "source": [
    "# <div align=\"center\">Sending Emails with Python</div>"
   ]
  },
  {
   "cell_type": "markdown",
   "id": "a6462e0d",
   "metadata": {},
   "source": [
    "This document contains my notes on how to send emails with Python. As of July 2021, I have used this in two of my projects (both of the repos below are currently private):\n",
    "- Craigslist Scraper: https://github.com/capuanomat/craigslist_scraper\n",
    "- WHO Job Placement: https://github.com/capuanomat/WHO_job_placement\n",
    "\n",
    "**Documentation**\n",
    "- ...method shown below...\n",
    "- (LOOK INTO THIS) Using the Gmail API Instead: https://developers.google.com/gmail/api/guides/sending#python\n",
    "\n",
    "Sometimes I encouter login issues when signing in through a jupyter notebook or an AWS service. The following StackOverflow post helps: https://stackoverflow.com/questions/54657006/smtpauthenticationerror-5-7-14-please-log-n5-7-14-in-via-your-web-browser"
   ]
  },
  {
   "cell_type": "code",
   "execution_count": null,
   "id": "4f30a2b1",
   "metadata": {},
   "outputs": [],
   "source": []
  }
 ],
 "metadata": {
  "kernelspec": {
   "display_name": "Python 3 (ipykernel)",
   "language": "python",
   "name": "python3"
  },
  "language_info": {
   "codemirror_mode": {
    "name": "ipython",
    "version": 3
   },
   "file_extension": ".py",
   "mimetype": "text/x-python",
   "name": "python",
   "nbconvert_exporter": "python",
   "pygments_lexer": "ipython3",
   "version": "3.9.4"
  }
 },
 "nbformat": 4,
 "nbformat_minor": 5
}
