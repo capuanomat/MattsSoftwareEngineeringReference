{
 "cells": [
  {
   "cell_type": "markdown",
   "id": "43326293",
   "metadata": {},
   "source": [
    "# <div align=\"center\">Amazon Web Services (AWS) Notes | DynamoDB & Lambda</div>"
   ]
  },
  {
   "cell_type": "markdown",
   "id": "9b06c235",
   "metadata": {},
   "source": [
    "In this document, I include **code snippets** and **notes** from some of my past work using AWS services. This is mostly meant as a future reference for myself if I need to quickly remember how I implemented some of these things. As mentioned in the README from the parent directory, the central documentation for all AWS services is hosted at https://docs.aws.amazon.com/."
   ]
  },
  {
   "cell_type": "markdown",
   "id": "72fa3cad",
   "metadata": {},
   "source": [
    "## AWS Lambda\n",
    "\n",
    "**Central Documentation:** https://docs.aws.amazon.com/lambda/index.html\n",
    "- One potentially important section of the above, \"Best Practices\": https://docs.aws.amazon.com/lambda/latest/dg/best-practices.html\n",
    "- Article about not using print() statements: https://towardsdatascience.com/why-you-should-never-ever-print-in-a-lambda-function-f997d684a705\n",
    "- Using scheduled events to trigger Lambda Functions"
   ]
  },
  {
   "cell_type": "code",
   "execution_count": null,
   "id": "b3137ae0",
   "metadata": {},
   "outputs": [],
   "source": [
    "# TODO: Add code snippets and/or notes"
   ]
  },
  {
   "cell_type": "markdown",
   "id": "12a808de",
   "metadata": {},
   "source": [
    "## AWS DynamoDB\n",
    "\n",
    "**Central Documentation:** https://docs.aws.amazon.com/dynamodb/index.html"
   ]
  },
  {
   "cell_type": "code",
   "execution_count": null,
   "id": "e7fa2c59",
   "metadata": {},
   "outputs": [],
   "source": [
    "# TODO: Add code snippets and/or notes"
   ]
  },
  {
   "cell_type": "markdown",
   "id": "1545377d",
   "metadata": {},
   "source": []
  }
 ],
 "metadata": {
  "kernelspec": {
   "display_name": "Python 3 (ipykernel)",
   "language": "python",
   "name": "python3"
  },
  "language_info": {
   "codemirror_mode": {
    "name": "ipython",
    "version": 3
   },
   "file_extension": ".py",
   "mimetype": "text/x-python",
   "name": "python",
   "nbconvert_exporter": "python",
   "pygments_lexer": "ipython3",
   "version": "3.9.4"
  }
 },
 "nbformat": 4,
 "nbformat_minor": 5
}
